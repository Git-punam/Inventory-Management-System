{
 "cells": [
  {
   "cell_type": "markdown",
   "metadata": {},
   "source": [
    "# Admin section :\n",
    "# 1. Add product details\n",
    "# 2. Display all products\n",
    "# 3. Check sales report"
   ]
  },
  {
   "cell_type": "code",
   "execution_count": 2,
   "metadata": {
    "scrolled": false
   },
   "outputs": [
    {
     "name": "stdout",
     "output_type": "stream",
     "text": [
      "Please select (1/2/3):\n",
      " 1.Add product \n",
      " 2.Display product details\n",
      " 3.Check sales report\n",
      "\n",
      "3\n",
      "Sales report for the date: \n",
      "{\"10011000\": {\"Customer name\": \"punam\", \"Customer contact no:\": 88888, \"date_time\": \"2021-09-06 14:33:47.469833\", \"Product id\": \"1001\", \"Quantity\": 3, \"Total amount\": 30}}{\"10011000\": {\"Customer name\": \"punam\", \"Customer contact no:\": 88888, \"date_time\": \"2021-09-06 14:33:47.469833\", \"Product id\": \"1001\", \"Quantity\": 3, \"Total amount\": 30}, \"0\": {\"Customer name\": \"punam\", \"Customer contact no:\": 6667777, \"date_time\": \"2021-09-06 17:00:00.836197\", \"Product id\": \"1001\", \"Quantity\": 4, \"Total amount\": 40}}\n",
      "\n",
      "Do you want to continue? Please press 'y' to continue else press 'n' to exit.\n",
      "\n",
      "n\n"
     ]
    }
   ],
   "source": [
    "import json\n",
    "\n",
    "\n",
    "\n",
    "#adding products       \n",
    "def add_product():\n",
    "    print(\"How many products you want to add?\")\n",
    "    num=int(input())\n",
    "    for i in range(num):\n",
    "        print(\"Please enter product ID:\")\n",
    "        prod_id=int(input())\n",
    "        #all_prod_id.append(prod_id)\n",
    "        print(\"Please enter product name:\")\n",
    "        prod_name=str(input())\n",
    "        print(\"Please enter product sale price:\")\n",
    "        s_price=int(input())\n",
    "        print(\"Please enter product regular price:\")\n",
    "        r_price=int(input())\n",
    "        print(\"Please enter product color:\")\n",
    "        color=str(input())\n",
    "        print(\"Please enter product stock:\")\n",
    "        stock=int(input())\n",
    "        \n",
    "        #formatting the user inputs to dictionary\n",
    "        record[prod_id]={'Name':prod_name,'Sale price':s_price,'Regular price':r_price,'Color':color,'Stock':stock}\n",
    "\n",
    "    #converting the dictionaruy to json formatted string\n",
    "    fd=open('records.json','a') #opening the json file\n",
    "    js=json.dumps(record) \n",
    "    fd.write(js) #writing to the json file\n",
    "    fd.close() #closing the json file\n",
    "\n",
    "    \n",
    "    \n",
    "    \n",
    "    \n",
    "#display the content of the json file\n",
    "def display_product():\n",
    "    fd=open('records.json','r')\n",
    "    text=fd.read()\n",
    "    print(text)\n",
    "    fd.close()\n",
    "\n",
    "\n",
    "    \n",
    "    \n",
    "    \n",
    "#sales report display\n",
    "def sales():\n",
    "    print(\"Sales report for the date: \")\n",
    "    fd=open('sales.json','r')\n",
    "    text=fd.read()\n",
    "    print(text)\n",
    "    fd.close()\n",
    "\n",
    "    \n",
    "    \n",
    "    \n",
    "#main function starts from here\n",
    "answer ='y'\n",
    "record={} #declaring a dictionary\n",
    "while answer=='y':   \n",
    "    print(\"Please select (1/2/3):\")\n",
    "    print(\" 1.Add product \\n 2.Display product details\\n 3.Check sales report\\n\")\n",
    "    admin_input=int(input())\n",
    "    if admin_input==1:\n",
    "        add_product()\n",
    "        print(\"\\nDo you want to continue? Please press 'y' to continue else press 'n' to exit.\\n\")\n",
    "        answer=str(input())\n",
    "    elif admin_input==2:\n",
    "        display_product()\n",
    "        print(\"\\nDo you want to continue? Please press 'y' to continue else press 'n' to exit.\\n\")\n",
    "        answer=str(input())\n",
    "    elif admin_input==3:\n",
    "        sales()\n",
    "        print(\"\\nDo you want to continue? Please press 'y' to continue else press 'n' to exit.\\n\")\n",
    "        answer=str(input())\n",
    "\n"
   ]
  },
  {
   "cell_type": "code",
   "execution_count": null,
   "metadata": {},
   "outputs": [],
   "source": []
  }
 ],
 "metadata": {
  "kernelspec": {
   "display_name": "Python 3",
   "language": "python",
   "name": "python3"
  },
  "language_info": {
   "codemirror_mode": {
    "name": "ipython",
    "version": 3
   },
   "file_extension": ".py",
   "mimetype": "text/x-python",
   "name": "python",
   "nbconvert_exporter": "python",
   "pygments_lexer": "ipython3",
   "version": "3.8.5"
  }
 },
 "nbformat": 4,
 "nbformat_minor": 4
}
